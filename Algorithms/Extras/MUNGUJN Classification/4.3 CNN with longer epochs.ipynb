{
 "cells": [
  {
   "cell_type": "markdown",
   "metadata": {
    "collapsed": true
   },
   "source": []
  },
  {
   "cell_type": "markdown",
   "metadata": {},
   "source": [
    "# CNN for lesion classification"
   ]
  },
  {
   "cell_type": "markdown",
   "metadata": {},
   "source": [
    "## 1. Brief CNN theory\n",
    "\n",
    "Theory same as in last notebook"
   ]
  },
  {
   "cell_type": "markdown",
   "metadata": {},
   "source": [
    "## 2. We build one using keras and tensorflow"
   ]
  },
  {
   "cell_type": "markdown",
   "metadata": {},
   "source": [
    "### 2.1 Preparation"
   ]
  },
  {
   "cell_type": "code",
   "execution_count": 1,
   "metadata": {},
   "outputs": [],
   "source": [
    "# setup code for this notebook\n",
    "import numpy as np\n",
    "import matplotlib.pyplot as plt\n",
    "from functions import data, Timer\n",
    "timer = Timer()\n",
    "\n",
    "# This makes matplotlib figures appear inline in the notebook\n",
    "# rather than in a new window.\n",
    "%matplotlib inline\n",
    "plt.rcParams['figure.figsize'] = (10.0, 8.0) # set default size of plots\n",
    "plt.rcParams['image.interpolation'] = 'nearest'\n",
    "plt.rcParams['image.cmap'] = 'gray'\n",
    "\n",
    "# Make the notebook reload external python modules;\n",
    "# see http://stackoverflow.com/questions/1907993/autoreload-of-modules-in-ipython\n",
    "%load_ext autoreload\n",
    "%autoreload 2"
   ]
  },
  {
   "cell_type": "markdown",
   "metadata": {},
   "source": [
    "#### The ultra sound scan data\n",
    "- 163 scans total, clinically confirmed as having either bening or malignant (cancerous) lesions \n",
    "- 100 scans for training, 63 for testing\n",
    "- Training data was passed through 7 transformations to give us 800 training images total\n",
    "- We balanced the training data to have half malignant and half benign\n",
    "- Since the malignant cases were less than benign cases, we use only 528 images for training\n",
    "- Emperically we have found this improves our overall performance\n",
    "- Testing images not transformed\n",
    "- Both training and testing images were resized to 224X224\n",
    "- Raw pngs then converted to numpy arrays and saved"
   ]
  },
  {
   "cell_type": "code",
   "execution_count": 2,
   "metadata": {},
   "outputs": [
    {
     "name": "stderr",
     "output_type": "stream",
     "text": [
      "Using TensorFlow backend.\n"
     ]
    }
   ],
   "source": [
    "# Import keras libraries\n",
    "from keras.models import Sequential\n",
    "from keras.layers.core import Dense, Dropout, Activation, Flatten\n",
    "from keras.layers.convolutional import Conv2D\n",
    "from keras.layers.pooling import MaxPooling2D\n",
    "from keras import backend as K"
   ]
  },
  {
   "cell_type": "code",
   "execution_count": 3,
   "metadata": {},
   "outputs": [
    {
     "name": "stdout",
     "output_type": "stream",
     "text": [
      "Input shape (224, 224, 3)\n"
     ]
    }
   ],
   "source": [
    "img_rows, img_cols = 224, 224 # 224, 224 resized down from 360, 528\n",
    "color_channels = 3\n",
    "\n",
    "if K.image_data_format() == 'channels_first':\n",
    "    input_shape = (color_channels, img_rows, img_cols)\n",
    "else:\n",
    "    input_shape = (img_rows, img_cols, color_channels)\n",
    "    \n",
    "print('Input shape', input_shape)"
   ]
  },
  {
   "cell_type": "markdown",
   "metadata": {},
   "source": [
    "### 2.2 A CNN"
   ]
  },
  {
   "cell_type": "code",
   "execution_count": 4,
   "metadata": {},
   "outputs": [],
   "source": [
    "# values for the convnet\n",
    "\n",
    "# number of convolutional filters to use\n",
    "filters = 64\n",
    "# size of pooling area\n",
    "pooling_area = 2\n",
    "# conv kernel size\n",
    "conv_kernel = 3\n"
   ]
  },
  {
   "cell_type": "code",
   "execution_count": 5,
   "metadata": {},
   "outputs": [],
   "source": [
    "# We define the cnn model\n",
    "def buildModelStructure():\n",
    "    model = Sequential()\n",
    "\n",
    "    model.add(Conv2D(filters, (conv_kernel, conv_kernel), padding='valid',\n",
    "                     input_shape=input_shape))\n",
    "    model.add(Activation('relu'))\n",
    "    model.add(MaxPooling2D(pool_size=(pooling_area, pooling_area)))\n",
    "\n",
    "    model.add(Conv2D(filters, (conv_kernel, conv_kernel)))\n",
    "    model.add(Activation('relu'))\n",
    "    model.add(MaxPooling2D(pool_size=(pooling_area, pooling_area)))\n",
    "\n",
    "    model.add(Conv2D(64, (conv_kernel, conv_kernel)))\n",
    "    model.add(Activation('relu'))\n",
    "    model.add(MaxPooling2D(pool_size=(pooling_area, pooling_area)))\n",
    "\n",
    "    model.add(Flatten())\n",
    "    model.add(Dense(64))\n",
    "    model.add(Activation('relu'))\n",
    "    model.add(Dropout(0.5))\n",
    "    model.add(Dense(1))\n",
    "    model.add(Activation('sigmoid'))\n",
    "    \n",
    "    return model"
   ]
  },
  {
   "cell_type": "code",
   "execution_count": 6,
   "metadata": {},
   "outputs": [],
   "source": [
    "# Visualize\n",
    "from IPython.display import SVG\n",
    "from keras.utils.vis_utils import model_to_dot\n",
    "\n",
    "def visualize(model):\n",
    "    model.summary()\n",
    "    SVG(model_to_dot(model).create(prog='dot', format='svg'))"
   ]
  },
  {
   "cell_type": "code",
   "execution_count": 7,
   "metadata": {},
   "outputs": [],
   "source": [
    "# generator helpers\n",
    "from keras.preprocessing.image import ImageDataGenerator"
   ]
  },
  {
   "cell_type": "code",
   "execution_count": 8,
   "metadata": {},
   "outputs": [
    {
     "name": "stdout",
     "output_type": "stream",
     "text": [
      "Found 400 images belonging to 2 classes.\n",
      "Found 128 images belonging to 2 classes.\n"
     ]
    }
   ],
   "source": [
    "# data readers\n",
    "base = \"J:\\\\final year project\\\\code and models\\\\data\\\\augmented\\\\\"\n",
    "train_directory = base+'training'\n",
    "validation_directory = base+'validation'\n",
    "\n",
    "batch_size = 32\n",
    "\n",
    "# normalization\n",
    "train_generator = ImageDataGenerator(rescale=1./255)\n",
    "validation_generator = ImageDataGenerator(rescale=1./255)\n",
    "\n",
    "# this is a generator that will read scans found in\n",
    "# the train directory, and indefinitely generate\n",
    "# batches of image data\n",
    "train_generator = train_generator.flow_from_directory(\n",
    "        train_directory,\n",
    "        target_size=(img_rows, img_cols),\n",
    "        batch_size=batch_size,\n",
    "        class_mode='binary')\n",
    "\n",
    "# A  similar generator, for validation data\n",
    "validation_generator = validation_generator.flow_from_directory(\n",
    "        validation_directory,\n",
    "        target_size=(img_rows, img_cols),\n",
    "        batch_size=batch_size,\n",
    "        class_mode='binary')"
   ]
  },
  {
   "cell_type": "code",
   "execution_count": 9,
   "metadata": {},
   "outputs": [],
   "source": [
    "def plot(network_history):\n",
    "    plt.figure()\n",
    "    plt.xlabel('Epochs')\n",
    "    plt.ylabel('Loss')\n",
    "    plt.plot(network_history.history['loss'])\n",
    "    plt.plot(network_history.history['val_loss'])\n",
    "    plt.legend(['Training', 'Validation'])\n",
    "\n",
    "    plt.figure()\n",
    "    plt.xlabel('Epochs')\n",
    "    plt.ylabel('Accuracy')\n",
    "    plt.plot(network_history.history['acc'])\n",
    "    plt.plot(network_history.history['val_acc'])\n",
    "    plt.legend(['Training', 'Validation'], loc='lower right')"
   ]
  },
  {
   "cell_type": "code",
   "execution_count": 10,
   "metadata": {},
   "outputs": [],
   "source": [
    "# helpers for checkpointing and early stopping\n",
    "from keras.callbacks import ModelCheckpoint, EarlyStopping\n",
    "\n",
    "best_model_file = '4.3.h5'\n",
    "early_stop = EarlyStopping(monitor='val_loss', patience=7, verbose=True) \n",
    "best_model = ModelCheckpoint(best_model_file, verbose=True, save_best_only=True)\n",
    "\n",
    "def testModel(optimizer='adagrad', epochs=10, text=\"Training model\"):\n",
    "    # build model\n",
    "    model = buildModelStructure()\n",
    "    \n",
    "    # Compile it\n",
    "    model.compile(loss='binary_crossentropy',\n",
    "              optimizer=optimizer,\n",
    "              metrics=['accuracy'])\n",
    "    timer.start()\n",
    "    network_history = model.fit_generator(\n",
    "            train_generator, \n",
    "            steps_per_epoch=800,\n",
    "            epochs=epochs,\n",
    "            validation_data = validation_generator,\n",
    "            validation_steps=256,\n",
    "            verbose=True,\n",
    "            callbacks=[best_model, early_stop])\n",
    "    timer.stop(text)\n",
    "    plot(network_history)"
   ]
  },
  {
   "cell_type": "code",
   "execution_count": 11,
   "metadata": {},
   "outputs": [
    {
     "name": "stdout",
     "output_type": "stream",
     "text": [
      "9\n"
     ]
    }
   ],
   "source": [
    "print(9)"
   ]
  },
  {
   "cell_type": "code",
   "execution_count": 12,
   "metadata": {
    "scrolled": false
   },
   "outputs": [
    {
     "name": "stdout",
     "output_type": "stream",
     "text": [
      "Epoch 1/20\n",
      "800/800 [==============================] - 303s 379ms/step - loss: 0.1290 - acc: 0.9397 - val_loss: 2.8452 - val_acc: 0.6250\n",
      "\n",
      "Epoch 00001: val_loss improved from inf to 2.84515, saving model to 4.3.h5\n",
      "Epoch 2/20\n",
      "800/800 [==============================] - 296s 370ms/step - loss: 9.9990e-04 - acc: 0.9999 - val_loss: 4.0509 - val_acc: 0.6250\n",
      "\n",
      "Epoch 00002: val_loss did not improve\n",
      "Epoch 3/20\n",
      "800/800 [==============================] - 295s 369ms/step - loss: 5.5027e-04 - acc: 0.9999 - val_loss: 4.3462 - val_acc: 0.6172\n",
      "\n",
      "Epoch 00003: val_loss did not improve\n",
      "Epoch 4/20\n",
      "800/800 [==============================] - 294s 368ms/step - loss: 6.1481e-04 - acc: 0.9998 - val_loss: 4.1326 - val_acc: 0.6250\n",
      "\n",
      "Epoch 00004: val_loss did not improve\n",
      "Epoch 5/20\n",
      "800/800 [==============================] - 292s 366ms/step - loss: 2.4799e-04 - acc: 1.0000 - val_loss: 4.3924 - val_acc: 0.6328\n",
      "\n",
      "Epoch 00005: val_loss did not improve\n",
      "Epoch 6/20\n",
      "800/800 [==============================] - 293s 366ms/step - loss: 1.7267e-04 - acc: 1.0000 - val_loss: 4.5862 - val_acc: 0.6250\n",
      "\n",
      "Epoch 00006: val_loss did not improve\n",
      "Epoch 7/20\n",
      "800/800 [==============================] - 293s 366ms/step - loss: 1.9681e-04 - acc: 1.0000 - val_loss: 4.5303 - val_acc: 0.6250\n",
      "\n",
      "Epoch 00007: val_loss did not improve\n",
      "Epoch 8/20\n",
      "800/800 [==============================] - 294s 368ms/step - loss: 2.6304e-04 - acc: 0.9999 - val_loss: 4.5803 - val_acc: 0.6250\n",
      "\n",
      "Epoch 00008: val_loss did not improve\n",
      "Epoch 00008: early stopping\n",
      "Timing:: took 39 minutes training model with adagrad\n",
      "-----------------------------------\n"
     ]
    },
    {
     "data": {
      "image/png": "[encoded data removed]",
      "text/plain": [
       "<matplotlib.figure.Figure at 0x25337e996a0>"
      ]
     },
     "metadata": {},
     "output_type": "display_data"
    },
    {
     "data": {
      "image/png": "[encoded data removed]",
      "text/plain": [
       "<matplotlib.figure.Figure at 0x2538fed5898>"
      ]
     },
     "metadata": {},
     "output_type": "display_data"
    }
   ],
   "source": [
    "#Adagrad\n",
    "epochs = 20\n",
    "testModel('adagrad', epochs, \"training model with adagrad\")"
   ]
  },
  {
   "cell_type": "markdown",
   "metadata": {},
   "source": [
    "### 2.3 Evaluating the CNNs performance"
   ]
  },
  {
   "cell_type": "code",
   "execution_count": 1,
   "metadata": {},
   "outputs": [
    {
     "name": "stdout",
     "output_type": "stream",
     "text": [
      "Test data shape:  (63, 224, 224, 3)\n",
      "Test labels shape:  (63, 1)\n"
     ]
    }
   ],
   "source": [
    "# Get test data\n",
    "from functions import data\n",
    "x_test, y_test = data.getTestData()\n",
    "print('Test data shape: ', x_test.shape)\n",
    "print('Test labels shape: ', y_test.shape)"
   ]
  },
  {
   "cell_type": "code",
   "execution_count": 2,
   "metadata": {},
   "outputs": [],
   "source": [
    "# normalize data\n",
    "X_test = x_test/255"
   ]
  },
  {
   "cell_type": "code",
   "execution_count": 3,
   "metadata": {},
   "outputs": [
    {
     "name": "stderr",
     "output_type": "stream",
     "text": [
      "Using TensorFlow backend.\n"
     ]
    },
    {
     "name": "stdout",
     "output_type": "stream",
     "text": [
      "_________________________________________________________________\n",
      "Layer (type)                 Output Shape              Param #   \n",
      "=================================================================\n",
      "conv2d_1 (Conv2D)            (None, 222, 222, 32)      896       \n",
      "_________________________________________________________________\n",
      "activation_1 (Activation)    (None, 222, 222, 32)      0         \n",
      "_________________________________________________________________\n",
      "max_pooling2d_1 (MaxPooling2 (None, 111, 111, 32)      0         \n",
      "_________________________________________________________________\n",
      "conv2d_2 (Conv2D)            (None, 109, 109, 32)      9248      \n",
      "_________________________________________________________________\n",
      "activation_2 (Activation)    (None, 109, 109, 32)      0         \n",
      "_________________________________________________________________\n",
      "max_pooling2d_2 (MaxPooling2 (None, 54, 54, 32)        0         \n",
      "_________________________________________________________________\n",
      "conv2d_3 (Conv2D)            (None, 52, 52, 64)        18496     \n",
      "_________________________________________________________________\n",
      "activation_3 (Activation)    (None, 52, 52, 64)        0         \n",
      "_________________________________________________________________\n",
      "max_pooling2d_3 (MaxPooling2 (None, 26, 26, 64)        0         \n",
      "_________________________________________________________________\n",
      "flatten_1 (Flatten)          (None, 43264)             0         \n",
      "_________________________________________________________________\n",
      "dense_1 (Dense)              (None, 64)                2768960   \n",
      "_________________________________________________________________\n",
      "activation_4 (Activation)    (None, 64)                0         \n",
      "_________________________________________________________________\n",
      "dropout_1 (Dropout)          (None, 64)                0         \n",
      "_________________________________________________________________\n",
      "dense_2 (Dense)              (None, 1)                 65        \n",
      "_________________________________________________________________\n",
      "activation_5 (Activation)    (None, 1)                 0         \n",
      "=================================================================\n",
      "Total params: 2,797,665\n",
      "Trainable params: 2,797,665\n",
      "Non-trainable params: 0\n",
      "_________________________________________________________________\n"
     ]
    }
   ],
   "source": [
    "# load and evaluate best model\n",
    "from keras.models import load_model\n",
    "best_model = load_model('4.3.h5')\n",
    "best_model.summary()"
   ]
  },
  {
   "cell_type": "code",
   "execution_count": 4,
   "metadata": {},
   "outputs": [
    {
     "data": {
      "text/plain": [
       "array([[1],\n",
       "       [1],\n",
       "       [1],\n",
       "       [0],\n",
       "       [1],\n",
       "       [0],\n",
       "       [1],\n",
       "       [1],\n",
       "       [0],\n",
       "       [1],\n",
       "       [1],\n",
       "       [1],\n",
       "       [1],\n",
       "       [1],\n",
       "       [1],\n",
       "       [1],\n",
       "       [0],\n",
       "       [0],\n",
       "       [0],\n",
       "       [1],\n",
       "       [1],\n",
       "       [1],\n",
       "       [1],\n",
       "       [1],\n",
       "       [1],\n",
       "       [1],\n",
       "       [1],\n",
       "       [0],\n",
       "       [0],\n",
       "       [1],\n",
       "       [1],\n",
       "       [0],\n",
       "       [1],\n",
       "       [1],\n",
       "       [1],\n",
       "       [1],\n",
       "       [1],\n",
       "       [1],\n",
       "       [0],\n",
       "       [0],\n",
       "       [1],\n",
       "       [0],\n",
       "       [1],\n",
       "       [0],\n",
       "       [1],\n",
       "       [1],\n",
       "       [1],\n",
       "       [0],\n",
       "       [1],\n",
       "       [1],\n",
       "       [0],\n",
       "       [1],\n",
       "       [1],\n",
       "       [1],\n",
       "       [0],\n",
       "       [1],\n",
       "       [1],\n",
       "       [1],\n",
       "       [1],\n",
       "       [1],\n",
       "       [0],\n",
       "       [1],\n",
       "       [1]])"
      ]
     },
     "execution_count": 4,
     "metadata": {},
     "output_type": "execute_result"
    }
   ],
   "source": [
    "best_model.predict_classes(x_test)"
   ]
  },
  {
   "cell_type": "code",
   "execution_count": 5,
   "metadata": {},
   "outputs": [],
   "source": [
    "def printMetrics(fn, tp):\n",
    "    sensitivity = tp/(tp+fn)\n",
    "    \n",
    "    print(\"True Positive Rate (TPR) or Hit Rate or Recall or Sensitivity: \"\n",
    "          , sensitivity)"
   ]
  },
  {
   "cell_type": "markdown",
   "metadata": {},
   "source": [
    "tn is the true negative. These are scans classified correctly as not having malignant lesions.\n",
    "\n",
    "fn is the false negative. These are scans classified incorrectly as having malignant lesions yet they are benign.\n",
    "\n",
    "fn is the false negatives. These are images predicted as not having malignant lesions yet they do. This should be low.\n",
    "\n",
    "tp is the true positive. These are correctly predicted to have malignant lesions. \n",
    "\n",
    "\n",
    "Sensitivity is a function of false negatives and true positives two variables. Because we are dealing with cancer, false negatives should be very low and true positives high. Low number of false negatives and a high number of true positives gives a high sensitivity. A high sensitivity is desired in a good model"
   ]
  },
  {
   "cell_type": "code",
   "execution_count": 6,
   "metadata": {},
   "outputs": [
    {
     "name": "stdout",
     "output_type": "stream",
     "text": [
      "false negatives:  5\n",
      "true positives:  16\n",
      "true negatives:  12\n",
      "false positives:  30\n",
      "True Positive Rate (TPR) or Hit Rate or Recall or Sensitivity:  0.761904761905\n"
     ]
    }
   ],
   "source": [
    "# Evaluate all\n",
    "from sklearn.metrics import confusion_matrix\n",
    "expected = y_test\n",
    "prediction = best_model.predict_classes(x_test)\n",
    "tn,fp,fn,tp = confusion_matrix(y_test, prediction).ravel()\n",
    "print(\"false negatives: \", fn)\n",
    "print(\"true positives: \", tp)\n",
    "print(\"true negatives: \", tn)\n",
    "print(\"false positives: \", fp)\n",
    "printMetrics(fn, tp)"
   ]
  },
  {
   "cell_type": "markdown",
   "metadata": {},
   "source": [
    "Not much improvement from our best performing model which uses fewer training steps per epoch"
   ]
  },
  {
   "cell_type": "markdown",
   "metadata": {},
   "source": [
    "### References for images and some content:\n",
    "\n",
    "\\[1\\] [https://adeshpande3.github.io/adeshpande3.github.io/]() \n",
    "<br> \\[2\\] [\"Neural Networks and Deep Learning\"](http://neuralnetworksanddeeplearning.com/) by Michael Nielsen.\n",
    "<br> \\[3\\] Deep learning with TensorFlow and Keras by Valerio Maggio"
   ]
  },
  {
   "cell_type": "code",
   "execution_count": null,
   "metadata": {},
   "outputs": [],
   "source": []
  }
 ],
 "metadata": {
  "kernelspec": {
   "display_name": "Python 3",
   "language": "python",
   "name": "python3"
  },
  "language_info": {
   "codemirror_mode": {
    "name": "ipython",
    "version": 3
   },
   "file_extension": ".py",
   "mimetype": "text/x-python",
   "name": "python",
   "nbconvert_exporter": "python",
   "pygments_lexer": "ipython3",
   "version": "3.6.5"
  }
 },
 "nbformat": 4,
 "nbformat_minor": 1
}
