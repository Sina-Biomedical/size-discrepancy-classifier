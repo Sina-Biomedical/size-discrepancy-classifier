{
 "cells": [
  {
   "cell_type": "markdown",
   "metadata": {
    "collapsed": true
   },
   "source": []
  },
  {
   "cell_type": "markdown",
   "metadata": {},
   "source": [
    "# CNN for lesion classification"
   ]
  },
  {
   "cell_type": "markdown",
   "metadata": {},
   "source": [
    "## 1. Brief CNN theory\n",
    "\n",
    "A Convolutional Neural Network (CNN, or ConvNet) is a type of **feed-forward** artificial neural network in which the connectivity pattern between its neurons is inspired by the organization of the animal visual cortex."
   ]
  },
  {
   "cell_type": "markdown",
   "metadata": {},
   "source": [
    "<img src=\"images/convnets_cover.png\" width=\"70%\" />\n",
    "\n",
    "> source: https://flickrcode.files.wordpress.com/2014/10/conv-net2.png"
   ]
  },
  {
   "cell_type": "markdown",
   "metadata": {},
   "source": [
    "### 1.1 Structure of a CNN\n",
    "\n",
    "> A more detailed overview of what CNNs do would be that you take the image, pass it through a series of convolutional, nonlinear, pooling (downsampling), and fully connected layers, and get an output. As we said earlier, the output can be a single class or a probability of classes that best describes the image. \n",
    "\n",
    "source: [1]\n",
    "\n",
    "#### Convolutional Layer\n",
    "\n",
    "The first layer in a CNN is always a **Convolutional Layer**.\n",
    "\n",
    "<img src=\"images/same_padding_no_strides.gif\" width=\"50%\">\n",
    "\n",
    "#### Typical CNN Structure\n",
    "\n",
    "A traditional CNN architecture consists of other layers interspaced between convolution layers\n",
    "\n",
    "<img src=\"images/Table.png\">\n",
    "\n",
    "#### Pooling layer\n",
    "\n",
    "After some ReLu layers, **pooling layer** is typically applied.\n",
    "\n",
    "<img src=\"images/MaxPool.png\" width=\"80%\"/>\n",
    "\n",
    "Pooling reduces the amount of parameters (helping with computional efficiency) and controls overfitting"
   ]
  },
  {
   "cell_type": "markdown",
   "metadata": {},
   "source": [
    "## 2. We build one using keras and tensorflow"
   ]
  },
  {
   "cell_type": "markdown",
   "metadata": {},
   "source": [
    "### 2.1 Preparation"
   ]
  },
  {
   "cell_type": "code",
   "execution_count": 1,
   "metadata": {},
   "outputs": [],
   "source": [
    "# setup code for this notebook\n",
    "import numpy as np\n",
    "import matplotlib.pyplot as plt\n",
    "from functions import data, Timer\n",
    "timer = Timer()\n",
    "\n",
    "# This makes matplotlib figures appear inline in the notebook\n",
    "# rather than in a new window.\n",
    "%matplotlib inline\n",
    "plt.rcParams['figure.figsize'] = (10.0, 8.0) # set default size of plots\n",
    "plt.rcParams['image.interpolation'] = 'nearest'\n",
    "plt.rcParams['image.cmap'] = 'gray'\n",
    "\n",
    "# Make the notebook reload external python modules;\n",
    "# see http://stackoverflow.com/questions/1907993/autoreload-of-modules-in-ipython\n",
    "%load_ext autoreload\n",
    "%autoreload 2"
   ]
  },
  {
   "cell_type": "markdown",
   "metadata": {},
   "source": [
    "#### The ultra sound scan data\n",
    "- 163 scans total, clinically confirmed as having either bening or malignant (cancerous) lesions \n",
    "- 100 scans for training, 63 for testing\n",
    "- Training data was passed through 7 transformations to give us 800 training images total\n",
    "- We balanced the training data to have half malignant and half benign\n",
    "- Since the malignant cases were less than benign cases, we use only 528 images for training\n",
    "- Emperically we have found this improves our overall performance\n",
    "- Testing images not transformed\n",
    "- Both training and testing images were resized to 224X224\n",
    "- Raw pngs then converted to numpy arrays and saved"
   ]
  },
  {
   "cell_type": "code",
   "execution_count": 2,
   "metadata": {},
   "outputs": [
    {
     "name": "stderr",
     "output_type": "stream",
     "text": [
      "Using TensorFlow backend.\n"
     ]
    }
   ],
   "source": [
    "# Import keras libraries\n",
    "from keras.models import Sequential\n",
    "from keras.layers.core import Dense, Dropout, Activation, Flatten\n",
    "from keras.layers.convolutional import Conv2D\n",
    "from keras.layers.pooling import MaxPooling2D\n",
    "from keras import backend as K"
   ]
  },
  {
   "cell_type": "code",
   "execution_count": 3,
   "metadata": {},
   "outputs": [
    {
     "name": "stdout",
     "output_type": "stream",
     "text": [
      "Input shape (224, 224, 3)\n"
     ]
    }
   ],
   "source": [
    "img_rows, img_cols = 224, 224 # 224, 224 resized down from 360, 528\n",
    "color_channels = 3\n",
    "\n",
    "if K.image_data_format() == 'channels_first':\n",
    "    input_shape = (color_channels, img_rows, img_cols)\n",
    "else:\n",
    "    input_shape = (img_rows, img_cols, color_channels)\n",
    "    \n",
    "print('Input shape', input_shape)"
   ]
  },
  {
   "cell_type": "markdown",
   "metadata": {},
   "source": [
    "### 2.2 A CNN"
   ]
  },
  {
   "cell_type": "code",
   "execution_count": 4,
   "metadata": {},
   "outputs": [],
   "source": [
    "# values for the convnet\n",
    "\n",
    "# number of convolutional filters to use\n",
    "filters = 32\n",
    "# size of pooling area\n",
    "pooling_area = 2\n",
    "# conv kernel size\n",
    "conv_kernel = 3\n"
   ]
  },
  {
   "cell_type": "code",
   "execution_count": 5,
   "metadata": {},
   "outputs": [],
   "source": [
    "# We define the cnn model\n",
    "def buildModelStructure():\n",
    "    model = Sequential()\n",
    "\n",
    "    model.add(Conv2D(filters, (conv_kernel, conv_kernel), padding='valid',\n",
    "                     input_shape=input_shape))\n",
    "    model.add(Activation('relu'))\n",
    "    model.add(MaxPooling2D(pool_size=(pooling_area, pooling_area)))\n",
    "\n",
    "    model.add(Conv2D(filters, (conv_kernel, conv_kernel)))\n",
    "    model.add(Activation('relu'))\n",
    "    model.add(MaxPooling2D(pool_size=(pooling_area, pooling_area)))\n",
    "\n",
    "    model.add(Conv2D(64, (conv_kernel, conv_kernel)))\n",
    "    model.add(Activation('relu'))\n",
    "    model.add(MaxPooling2D(pool_size=(pooling_area, pooling_area)))\n",
    "\n",
    "    model.add(Flatten())\n",
    "    model.add(Dense(64))\n",
    "    model.add(Activation('relu'))\n",
    "    model.add(Dropout(0.5))\n",
    "    model.add(Dense(1))\n",
    "    model.add(Activation('sigmoid'))\n",
    "    \n",
    "    return model"
   ]
  },
  {
   "cell_type": "code",
   "execution_count": 6,
   "metadata": {},
   "outputs": [],
   "source": [
    "# Visualize\n",
    "from IPython.display import SVG\n",
    "from keras.utils.vis_utils import model_to_dot\n",
    "\n",
    "def visualize(model):\n",
    "    model.summary()\n",
    "    SVG(model_to_dot(model).create(prog='dot', format='svg'))"
   ]
  },
  {
   "cell_type": "code",
   "execution_count": 7,
   "metadata": {},
   "outputs": [],
   "source": [
    "# generator helpers\n",
    "from keras.preprocessing.image import ImageDataGenerator"
   ]
  },
  {
   "cell_type": "code",
   "execution_count": 8,
   "metadata": {},
   "outputs": [
    {
     "name": "stdout",
     "output_type": "stream",
     "text": [
      "Found 400 images belonging to 2 classes.\n",
      "Found 128 images belonging to 2 classes.\n"
     ]
    }
   ],
   "source": [
    "# data readers\n",
    "base = \"J:\\\\final year project\\\\code and models\\\\data\\\\augmented\\\\\"\n",
    "train_directory = base+'training'\n",
    "validation_directory = base+'validation'\n",
    "\n",
    "batch_size = 32\n",
    "\n",
    "# normalization\n",
    "train_generator = ImageDataGenerator(rescale=1./255)\n",
    "validation_generator = ImageDataGenerator(rescale=1./255)\n",
    "\n",
    "# this is a generator that will read scans found in\n",
    "# the train directory, and indefinitely generate\n",
    "# batches of image data\n",
    "train_generator = train_generator.flow_from_directory(\n",
    "        train_directory,\n",
    "        target_size=(img_rows, img_cols),\n",
    "        batch_size=batch_size,\n",
    "        class_mode='binary')\n",
    "\n",
    "# A  similar generator, for validation data\n",
    "validation_generator = validation_generator.flow_from_directory(\n",
    "        validation_directory,\n",
    "        target_size=(img_rows, img_cols),\n",
    "        batch_size=batch_size,\n",
    "        class_mode='binary')"
   ]
  },
  {
   "cell_type": "code",
   "execution_count": 9,
   "metadata": {},
   "outputs": [],
   "source": [
    "def plot(network_history):\n",
    "    plt.figure()\n",
    "    plt.xlabel('Epochs')\n",
    "    plt.ylabel('Loss')\n",
    "    plt.plot(network_history.history['loss'])\n",
    "    plt.plot(network_history.history['val_loss'])\n",
    "    plt.legend(['Training', 'Validation'])\n",
    "\n",
    "    plt.figure()\n",
    "    plt.xlabel('Epochs')\n",
    "    plt.ylabel('Accuracy')\n",
    "    plt.plot(network_history.history['acc'])\n",
    "    plt.plot(network_history.history['val_acc'])\n",
    "    plt.legend(['Training', 'Validation'], loc='lower right')"
   ]
  },
  {
   "cell_type": "code",
   "execution_count": 10,
   "metadata": {},
   "outputs": [],
   "source": [
    "# helpers for checkpointing and early stopping\n",
    "from keras.callbacks import ModelCheckpoint # , EarlyStopping\n",
    "\n",
    "best_model_file = '4.2.h5'\n",
    "# early_stop = EarlyStopping(monitor='val_loss', patience=5, verbose=1) \n",
    "best_model = ModelCheckpoint(best_model_file, verbose=True, save_best_only=True)\n",
    "\n",
    "def testModel(optimizer='rmsprop', epochs=2, text=\"Training model\"):\n",
    "    # build model\n",
    "    model = buildModelStructure()\n",
    "    \n",
    "    # Compile it\n",
    "    model.compile(loss='binary_crossentropy',\n",
    "              optimizer=optimizer,\n",
    "              metrics=['accuracy'])\n",
    "    timer.start()\n",
    "    network_history = model.fit_generator(\n",
    "            train_generator, \n",
    "            steps_per_epoch=400,\n",
    "            epochs=epochs,\n",
    "            validation_data = validation_generator,\n",
    "            validation_steps=128,\n",
    "            verbose=True,\n",
    "            callbacks=[best_model])\n",
    "    timer.stop(text)\n",
    "    plot(network_history)"
   ]
  },
  {
   "cell_type": "code",
   "execution_count": 11,
   "metadata": {
    "scrolled": false
   },
   "outputs": [
    {
     "name": "stdout",
     "output_type": "stream",
     "text": [
      "Epoch 1/10\n",
      "400/400 [==============================] - 178s 446ms/step - loss: 0.3648 - acc: 0.7941 - val_loss: 2.7733 - val_acc: 0.6484\n",
      "\n",
      "Epoch 00001: val_loss improved from inf to 2.77332, saving model to 4.2.h5\n",
      "Epoch 2/10\n",
      "400/400 [==============================] - 149s 372ms/step - loss: 0.0069 - acc: 0.9984 - val_loss: 3.3006 - val_acc: 0.6484\n",
      "\n",
      "Epoch 00002: val_loss did not improve\n",
      "Epoch 3/10\n",
      "400/400 [==============================] - 148s 370ms/step - loss: 0.0017 - acc: 0.9998 - val_loss: 3.7406 - val_acc: 0.6484\n",
      "\n",
      "Epoch 00003: val_loss did not improve\n",
      "Epoch 4/10\n",
      "400/400 [==============================] - 149s 372ms/step - loss: 0.0011 - acc: 0.9997 - val_loss: 3.8316 - val_acc: 0.6562\n",
      "\n",
      "Epoch 00004: val_loss did not improve\n",
      "Epoch 5/10\n",
      "400/400 [==============================] - 150s 374ms/step - loss: 0.0014 - acc: 0.9994 - val_loss: 3.6980 - val_acc: 0.6484\n",
      "\n",
      "Epoch 00005: val_loss did not improve\n",
      "Epoch 6/10\n",
      "400/400 [==============================] - 150s 375ms/step - loss: 6.9086e-04 - acc: 0.9998 - val_loss: 4.1173 - val_acc: 0.6484\n",
      "\n",
      "Epoch 00006: val_loss did not improve\n",
      "Epoch 7/10\n",
      "400/400 [==============================] - 153s 383ms/step - loss: 6.3775e-04 - acc: 0.9999 - val_loss: 4.0325 - val_acc: 0.6484\n",
      "\n",
      "Epoch 00007: val_loss did not improve\n",
      "Epoch 8/10\n",
      "400/400 [==============================] - 148s 370ms/step - loss: 3.1524e-04 - acc: 1.0000 - val_loss: 4.2125 - val_acc: 0.6484\n",
      "\n",
      "Epoch 00008: val_loss did not improve\n",
      "Epoch 9/10\n",
      "400/400 [==============================] - 147s 368ms/step - loss: 0.0023 - acc: 0.9995 - val_loss: 3.3825 - val_acc: 0.6484\n",
      "\n",
      "Epoch 00009: val_loss did not improve\n",
      "Epoch 10/10\n",
      "400/400 [==============================] - 150s 374ms/step - loss: 9.5867e-04 - acc: 0.9998 - val_loss: 3.8880 - val_acc: 0.6484\n",
      "\n",
      "Epoch 00010: val_loss did not improve\n",
      "Timing:: took 25 minutes training model with adagrad\n",
      "-----------------------------------\n"
     ]
    },
    {
     "data": {
      "image/png": "[encoded data removed]",
      "text/plain": [
       "<matplotlib.figure.Figure at 0x1eab46c7550>"
      ]
     },
     "metadata": {},
     "output_type": "display_data"
    },
    {
     "data": {
      "image/png": "[encoded data removed]",
      "text/plain": [
       "<matplotlib.figure.Figure at 0x1eb0719e9e8>"
      ]
     },
     "metadata": {},
     "output_type": "display_data"
    }
   ],
   "source": [
    "#Adagrad\n",
    "epochs = 10\n",
    "testModel('adagrad', epochs, \"training model with adagrad\")"
   ]
  },
  {
   "cell_type": "markdown",
   "metadata": {},
   "source": [
    "### 2.3 Evaluating the CNNs performance"
   ]
  },
  {
   "cell_type": "code",
   "execution_count": 1,
   "metadata": {},
   "outputs": [
    {
     "name": "stdout",
     "output_type": "stream",
     "text": [
      "Test data shape:  (63, 224, 224, 3)\n",
      "Test labels shape:  (63, 1)\n"
     ]
    }
   ],
   "source": [
    "# Get test data\n",
    "from functions import data\n",
    "x_test, y_test = data.getTestData()\n",
    "print('Test data shape: ', x_test.shape)\n",
    "print('Test labels shape: ', y_test.shape)"
   ]
  },
  {
   "cell_type": "code",
   "execution_count": 2,
   "metadata": {},
   "outputs": [],
   "source": [
    "X_test = x_test/255"
   ]
  },
  {
   "cell_type": "code",
   "execution_count": 3,
   "metadata": {},
   "outputs": [
    {
     "name": "stderr",
     "output_type": "stream",
     "text": [
      "p:\\program files\\python\\python36\\lib\\site-packages\\h5py\\__init__.py:36: FutureWarning: Conversion of the second argument of issubdtype from `float` to `np.floating` is deprecated. In future, it will be treated as `np.float64 == np.dtype(float).type`.\n",
      "  from ._conv import register_converters as _register_converters\n",
      "Using TensorFlow backend.\n"
     ]
    },
    {
     "name": "stdout",
     "output_type": "stream",
     "text": [
      "_________________________________________________________________\n",
      "Layer (type)                 Output Shape              Param #   \n",
      "=================================================================\n",
      "conv2d_1 (Conv2D)            (None, 222, 222, 32)      896       \n",
      "_________________________________________________________________\n",
      "activation_1 (Activation)    (None, 222, 222, 32)      0         \n",
      "_________________________________________________________________\n",
      "max_pooling2d_1 (MaxPooling2 (None, 111, 111, 32)      0         \n",
      "_________________________________________________________________\n",
      "conv2d_2 (Conv2D)            (None, 109, 109, 32)      9248      \n",
      "_________________________________________________________________\n",
      "activation_2 (Activation)    (None, 109, 109, 32)      0         \n",
      "_________________________________________________________________\n",
      "max_pooling2d_2 (MaxPooling2 (None, 54, 54, 32)        0         \n",
      "_________________________________________________________________\n",
      "conv2d_3 (Conv2D)            (None, 52, 52, 64)        18496     \n",
      "_________________________________________________________________\n",
      "activation_3 (Activation)    (None, 52, 52, 64)        0         \n",
      "_________________________________________________________________\n",
      "max_pooling2d_3 (MaxPooling2 (None, 26, 26, 64)        0         \n",
      "_________________________________________________________________\n",
      "flatten_1 (Flatten)          (None, 43264)             0         \n",
      "_________________________________________________________________\n",
      "dense_1 (Dense)              (None, 64)                2768960   \n",
      "_________________________________________________________________\n",
      "activation_4 (Activation)    (None, 64)                0         \n",
      "_________________________________________________________________\n",
      "dropout_1 (Dropout)          (None, 64)                0         \n",
      "_________________________________________________________________\n",
      "dense_2 (Dense)              (None, 1)                 65        \n",
      "_________________________________________________________________\n",
      "activation_5 (Activation)    (None, 1)                 0         \n",
      "=================================================================\n",
      "Total params: 2,797,665\n",
      "Trainable params: 2,797,665\n",
      "Non-trainable params: 0\n",
      "_________________________________________________________________\n"
     ]
    }
   ],
   "source": [
    "# load and evaluate best model\n",
    "from keras.models import load_model\n",
    "best_model = load_model('4.2.h5')\n",
    "best_model.summary()"
   ]
  },
  {
   "cell_type": "code",
   "execution_count": 4,
   "metadata": {},
   "outputs": [
    {
     "data": {
      "text/plain": [
       "array([[1],\n",
       "       [1],\n",
       "       [1],\n",
       "       [0],\n",
       "       [1],\n",
       "       [0],\n",
       "       [1],\n",
       "       [1],\n",
       "       [0],\n",
       "       [1],\n",
       "       [1],\n",
       "       [1],\n",
       "       [1],\n",
       "       [1],\n",
       "       [1],\n",
       "       [1],\n",
       "       [0],\n",
       "       [0],\n",
       "       [0],\n",
       "       [1],\n",
       "       [1],\n",
       "       [1],\n",
       "       [1],\n",
       "       [1],\n",
       "       [0],\n",
       "       [1],\n",
       "       [1],\n",
       "       [1],\n",
       "       [0],\n",
       "       [1],\n",
       "       [0],\n",
       "       [0],\n",
       "       [1],\n",
       "       [1],\n",
       "       [1],\n",
       "       [0],\n",
       "       [0],\n",
       "       [0],\n",
       "       [0],\n",
       "       [0],\n",
       "       [0],\n",
       "       [0],\n",
       "       [1],\n",
       "       [1],\n",
       "       [1],\n",
       "       [1],\n",
       "       [1],\n",
       "       [1],\n",
       "       [0],\n",
       "       [1],\n",
       "       [0],\n",
       "       [1],\n",
       "       [1],\n",
       "       [1],\n",
       "       [1],\n",
       "       [1],\n",
       "       [1],\n",
       "       [1],\n",
       "       [1],\n",
       "       [1],\n",
       "       [0],\n",
       "       [1],\n",
       "       [1]])"
      ]
     },
     "execution_count": 4,
     "metadata": {},
     "output_type": "execute_result"
    }
   ],
   "source": [
    "best_model.predict_classes(x_test)"
   ]
  },
  {
   "cell_type": "code",
   "execution_count": 5,
   "metadata": {},
   "outputs": [],
   "source": [
    "def printMetrics(tn, fp, fn, tp):\n",
    "    sensitivity = tp/(tp+fn)\n",
    "    precision = tp/(tp+fp)\n",
    "    specificity = tn/(fp+tn)\n",
    "    f_measure = (2*tp)/((2*tp)+fp+fn)\n",
    "    \n",
    "    print(\"True Positive Rate (TPR) or Hit Rate or Recall or Sensitivity: \", sensitivity)\n",
    "    print('\\n')\n",
    "    print(\"Precision: \", precision)\n",
    "    print(\"Sensitivity: \", sensitivity)\n",
    "    print(\"Specificity: \", specificity)\n",
    "    print(\"F measure: \", f_measure)"
   ]
  },
  {
   "cell_type": "markdown",
   "metadata": {},
   "source": [
    "tn is the true negative. These are scans classified correctly as not having malignant lesions.\n",
    "\n",
    "fn is the false negative. These are scans classified incorrectly as having malignant lesions yet they are benign.\n",
    "\n",
    "fn is the false negatives. These are images predicted as not having malignant lesions yet they do. This should be low.\n",
    "\n",
    "tp is the true positive. These are correctly predicted to have malignant lesions. \n",
    "\n",
    "\n",
    "Sensitivity is a function of false negatives and true positives two variables. Because we are dealing with cancer, false negatives should be very low and true positives high. Low number of false negatives and a high number of true positives gives a high sensitivity. A high sensitivity is desired in a good model"
   ]
  },
  {
   "cell_type": "code",
   "execution_count": 6,
   "metadata": {},
   "outputs": [
    {
     "name": "stdout",
     "output_type": "stream",
     "text": [
      "false negatives:  3\n",
      "true positives:  18\n",
      "true negatives:  17\n",
      "false positives:  25\n",
      "True Positive Rate (TPR) or Hit Rate or Recall or Sensitivity:  0.8571428571428571\n",
      "\n",
      "\n",
      "Precision:  0.4186046511627907\n",
      "Sensitivity:  0.8571428571428571\n",
      "Specificity:  0.40476190476190477\n",
      "F measure:  0.5625\n"
     ]
    }
   ],
   "source": [
    "# Evaluate all\n",
    "from sklearn.metrics import confusion_matrix\n",
    "expected = y_test\n",
    "prediction = best_model.predict_classes(x_test)\n",
    "tn,fp,fn,tp = confusion_matrix(y_test, prediction).ravel()\n",
    "print(\"false negatives: \", fn)\n",
    "print(\"true positives: \", tp)\n",
    "print(\"true negatives: \", tn)\n",
    "print(\"false positives: \", fp)\n",
    "printMetrics(tn, fp, fn, tp)"
   ]
  },
  {
   "cell_type": "code",
   "execution_count": 7,
   "metadata": {},
   "outputs": [],
   "source": [
    "from sklearn.metrics  import roc_curve, auc\n",
    "import matplotlib.pyplot as plt\n",
    "import random"
   ]
  },
  {
   "cell_type": "code",
   "execution_count": 9,
   "metadata": {},
   "outputs": [
    {
     "name": "stdout",
     "output_type": "stream",
     "text": [
      "[0]\n",
      "[1]\n"
     ]
    }
   ],
   "source": [
    "actual = y_test\n",
    "predictions = prediction\n",
    "print(actual[0])\n",
    "print(prediction[0])"
   ]
  },
  {
   "cell_type": "code",
   "execution_count": 10,
   "metadata": {},
   "outputs": [],
   "source": [
    "false_positive_rate, true_positive_rate, thresholds = roc_curve(actual, predictions)\n",
    "roc_auc = auc(false_positive_rate, true_positive_rate)"
   ]
  },
  {
   "cell_type": "code",
   "execution_count": 11,
   "metadata": {},
   "outputs": [
    {
     "data": {
      "image/png": "[encoded data removed]",
      "text/plain": [
       "<Figure size 432x288 with 1 Axes>"
      ]
     },
     "metadata": {},
     "output_type": "display_data"
    }
   ],
   "source": [
    "plt.title('Receiver Operating Characteristic')\n",
    "plt.plot(false_positive_rate, true_positive_rate, 'b',\n",
    "label='AUC = %0.2f'% roc_auc)\n",
    "plt.legend(loc='lower right')\n",
    "plt.plot([0,1],[0,1],'r--')\n",
    "# plt.xlim([-0.1,1.2])\n",
    "# plt.ylim([-0.1,1.2])\n",
    "plt.ylabel('True Positive Rate')\n",
    "plt.xlabel('False Positive Rate')\n",
    "plt.show()"
   ]
  },
  {
   "cell_type": "markdown",
   "metadata": {},
   "source": []
  },
  {
   "cell_type": "markdown",
   "metadata": {},
   "source": [
    "This is our best performing network. Capable of recognising lesions with 0.85 sensitivty or 85% sensitivity."
   ]
  },
  {
   "cell_type": "markdown",
   "metadata": {},
   "source": [
    "### References for images and some content:\n",
    "\n",
    "\\[1\\] [https://adeshpande3.github.io/adeshpande3.github.io/]() \n",
    "<br> \\[2\\] [\"Neural Networks and Deep Learning\"](http://neuralnetworksanddeeplearning.com/) by Michael Nielsen.\n",
    "<br> \\[3\\] Deep learning with TensorFlow and Keras by Valerio Maggio"
   ]
  },
  {
   "cell_type": "code",
   "execution_count": null,
   "metadata": {},
   "outputs": [],
   "source": []
  }
 ],
 "metadata": {
  "kernelspec": {
   "display_name": "Python 3",
   "language": "python",
   "name": "python3"
  },
  "language_info": {
   "codemirror_mode": {
    "name": "ipython",
    "version": 3
   },
   "file_extension": ".py",
   "mimetype": "text/x-python",
   "name": "python",
   "nbconvert_exporter": "python",
   "pygments_lexer": "ipython3",
   "version": "3.6.5"
  }
 },
 "nbformat": 4,
 "nbformat_minor": 1
}
