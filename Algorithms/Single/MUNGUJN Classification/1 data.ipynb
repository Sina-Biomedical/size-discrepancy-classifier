{
 "cells": [
  {
   "cell_type": "markdown",
   "metadata": {
    "collapsed": true
   },
   "source": [
    "# Data preparation"
   ]
  },
  {
   "cell_type": "code",
   "execution_count": null,
   "metadata": {},
   "outputs": [],
   "source": []
  },
  {
   "cell_type": "markdown",
   "metadata": {},
   "source": [
    "## The ultra sound scan data\n",
    "- 163 scans total, clinically confirmed as having either bening or malignant (cancerous) lesions \n",
    "- 100 scans for training, 63 for testing\n",
    "- Training data will be passed through 7 transformations to give us 800 training images total\n",
    "- Testing images will not be transformed\n",
    "- All images will be converted from grayscale to RGB\n",
    "- All images will be resized to 224X224\n",
    "- Images will then be converted to numpy arrays and saved"
   ]
  },
  {
   "cell_type": "code",
   "execution_count": 1,
   "metadata": {},
   "outputs": [],
   "source": [
    "# some setup code for this notebook\n",
    "import numpy as np\n",
    "import matplotlib.pyplot as plt\n",
    "from functions import data, Timer\n",
    "timer = Timer()\n",
    "\n",
    "# This makes matplotlib figures appear inline in the notebook\n",
    "# rather than in a new window.\n",
    "%matplotlib inline\n",
    "plt.rcParams['figure.figsize'] = (10.0, 8.0) # set default size of plots\n",
    "plt.rcParams['image.interpolation'] = 'nearest'\n",
    "plt.rcParams['image.cmap'] = 'gray'\n",
    "\n",
    "# Make the notebook reload external python modules;\n",
    "# see http://stackoverflow.com/questions/1907993/autoreload-of-modules-in-ipython\n",
    "%load_ext autoreload\n",
    "%autoreload 2"
   ]
  },
  {
   "cell_type": "markdown",
   "metadata": {},
   "source": [
    "The functions we will be using. Code is in corresponding files"
   ]
  },
  {
   "cell_type": "code",
   "execution_count": 2,
   "metadata": {},
   "outputs": [],
   "source": [
    "#functions\n",
    "from functions.transform_images import performTransformationSetWithBlurAndSharpen, \\\n",
    "    resize, getFileAddresses, convertToRGB, toNpArray"
   ]
  },
  {
   "cell_type": "code",
   "execution_count": 3,
   "metadata": {},
   "outputs": [],
   "source": [
    "# training data locations\n",
    "\n",
    "training_base = \"J:\\\\final year project\\\\code and models\\\\data\\\\augmented\\\\training\\\\\"\n",
    "\n",
    "benign_training_folder = training_base + \"benign\"\n",
    "malignant_training_folder = training_base + \"malignant\"\n",
    "\n",
    "benign_training_image_files = getFileAddresses(benign_training_folder)\n",
    "malignant_training_image_files = getFileAddresses(malignant_training_folder)\n",
    "\n",
    "benign_training_images_np_file = benign_training_folder + \"_training.npy\"\n",
    "malignant_training_images_np_file = malignant_training_folder + \"_training.npy\"\n",
    "\n",
    "benign_training_labels_np_file = benign_training_folder + \"_training_labels.npy\"\n",
    "malignant_training_labels_np_file = malignant_training_folder + \"_training_labels.npy\""
   ]
  },
  {
   "cell_type": "code",
   "execution_count": 4,
   "metadata": {},
   "outputs": [],
   "source": [
    "# testing data locations\n",
    "\n",
    "testing_base = \"J:\\\\final year project\\\\code and models\\\\data\\\\original\\\\testing\\\\\"\n",
    "\n",
    "benign_testing_folder = testing_base + \"benign\"\n",
    "malignant_testing_folder = testing_base + \"malignant\"\n",
    "\n",
    "benign_testing_image_files = getFileAddresses(benign_testing_folder)\n",
    "malignant_testing_image_files = getFileAddresses(malignant_testing_folder)\n",
    "\n",
    "benign_testing_images_np_file = benign_testing_folder + \"_testing.npy\"\n",
    "malignant_testing_images_np_file = malignant_testing_folder + \"_testing.npy\"\n",
    "\n",
    "benign_testing_labels_np_file = benign_testing_folder + \"_testing_labels.npy\"\n",
    "malignant_testing_labels_np_file = malignant_testing_folder + \"_testing_labels.npy\""
   ]
  },
  {
   "cell_type": "markdown",
   "metadata": {},
   "source": [
    "## Functions we will be using"
   ]
  },
  {
   "cell_type": "code",
   "execution_count": 5,
   "metadata": {},
   "outputs": [],
   "source": [
    "def transformImages(files):\n",
    "    timer.start()\n",
    "    print('transforming %d files' % len(files))\n",
    "    for file in files:\n",
    "        performTransformationSetWithBlurAndSharpen(file)\n",
    "    timer.stop('transforming %d files' % len(files))"
   ]
  },
  {
   "cell_type": "code",
   "execution_count": 6,
   "metadata": {},
   "outputs": [],
   "source": [
    "def convertImagesToRGB(files):\n",
    "    timer.start()\n",
    "    print('converting %d files to rgb' % len(files))\n",
    "    for file in files:\n",
    "        convertToRGB(file)\n",
    "    timer.stop('converting %d files to rgb' % len(files))"
   ]
  },
  {
   "cell_type": "code",
   "execution_count": 7,
   "metadata": {},
   "outputs": [],
   "source": [
    "def resizeImages(files):\n",
    "    timer.start()\n",
    "    print('resizing %d files' % len(files))\n",
    "    for file in files:\n",
    "        resize(file, (224, 224))\n",
    "    timer.stop('resizing %d files' % len(files))"
   ]
  },
  {
   "cell_type": "code",
   "execution_count": 8,
   "metadata": {},
   "outputs": [],
   "source": [
    "# augment, convert to RGB and resize\n",
    "def augmentAndPreprocessTrainingImages():\n",
    "    transformImages(benign_training_image_files)\n",
    "    transformImages(malignant_training_image_files)\n",
    "\n",
    "    convertImagesToRGB(getFileAddresses(benign_training_folder))\n",
    "    convertImagesToRGB(getFileAddresses(malignant_training_folder))\n",
    "\n",
    "    resizeImages(getFileAddresses(benign_training_folder))\n",
    "    resizeImages(getFileAddresses(malignant_training_folder))"
   ]
  },
  {
   "cell_type": "code",
   "execution_count": 9,
   "metadata": {},
   "outputs": [],
   "source": [
    "# convert to rgb and resize, no transformations this time\n",
    "def preprocessTestingImages():\n",
    "    convertImagesToRGB(getFileAddresses(benign_testing_folder))\n",
    "    convertImagesToRGB(getFileAddresses(malignant_testing_folder))\n",
    "\n",
    "    resizeImages(getFileAddresses(benign_testing_folder))\n",
    "    resizeImages(getFileAddresses(malignant_testing_folder))"
   ]
  },
  {
   "cell_type": "code",
   "execution_count": 10,
   "metadata": {},
   "outputs": [],
   "source": [
    "# convert image files to a numpy array\n",
    "def convertImageFilesToNpArray(files):\n",
    "    first_image = toNpArray(files[0])\n",
    "    try:\n",
    "        color_channels = first_image.shape[2]\n",
    "    except Exception:\n",
    "        color_channels = 1\n",
    "\n",
    "    dimension1 = len(files)\n",
    "    dimension2 = first_image.shape[0]\n",
    "    dimension3 = first_image.shape[1]\n",
    "\n",
    "    if color_channels == 3:\n",
    "        dimension4 = 3\n",
    "        image_array = np.zeros((dimension1, dimension2, dimension3, dimension4))\n",
    "    else:\n",
    "        image_array = np.zeros((dimension1, dimension2, dimension3))\n",
    "\n",
    "    labels_array = np.zeros((dimension1, 1), dtype=np.int32)\n",
    "    for i in range(dimension1):\n",
    "        image_array[i] = toNpArray(files[i])\n",
    "\n",
    "    if files == getFileAddresses(benign_training_folder) or files == getFileAddresses(benign_testing_folder):\n",
    "        for i in range(dimension1):\n",
    "            labels_array[i] = 0\n",
    "    elif files == getFileAddresses(malignant_training_folder) or files == getFileAddresses(malignant_testing_folder):\n",
    "        for i in range(dimension1):\n",
    "            labels_array[i] = 1\n",
    "\n",
    "    if files == getFileAddresses(benign_training_folder):\n",
    "        np.save(benign_training_images_np_file, image_array)\n",
    "        np.save(benign_training_labels_np_file, labels_array)\n",
    "    elif files == getFileAddresses(benign_testing_folder):\n",
    "        np.save(benign_testing_images_np_file, image_array)\n",
    "        np.save(benign_testing_labels_np_file, labels_array)\n",
    "    elif files == getFileAddresses(malignant_training_folder):\n",
    "        np.save(malignant_training_images_np_file, image_array)\n",
    "        np.save(malignant_training_labels_np_file, labels_array)\n",
    "    elif files == getFileAddresses(malignant_testing_folder):\n",
    "        np.save(malignant_testing_images_np_file, image_array)\n",
    "        np.save(malignant_testing_labels_np_file, labels_array)\n",
    "\n",
    "    return image_array, labels_array"
   ]
  },
  {
   "cell_type": "code",
   "execution_count": 11,
   "metadata": {},
   "outputs": [],
   "source": [
    "# helper function for getting training data\n",
    "def getTrainingDataNp(reload=False):\n",
    "    timer.start()\n",
    "    if reload:\n",
    "        x_benign, y_benign = convertImageFilesToNpArray(getFileAddresses(benign_training_folder))\n",
    "        x_malignant, y_malignant = convertImageFilesToNpArray(getFileAddresses(malignant_training_folder))\n",
    "\n",
    "        x = np.concatenate((x_benign, x_malignant))\n",
    "        y = np.concatenate((y_benign, y_malignant))\n",
    "\n",
    "        timer.stop(\"getting training data\")\n",
    "        return x, y\n",
    "    else:\n",
    "        x_benign = np.load(benign_training_images_np_file)\n",
    "        y_benign = np.load(benign_training_labels_np_file)\n",
    "\n",
    "        x_malignant = np.load(malignant_training_images_np_file)\n",
    "        y_malignant = np.load(malignant_training_labels_np_file)\n",
    "\n",
    "        x = np.concatenate((x_benign, x_malignant))\n",
    "        y = np.concatenate((y_benign, y_malignant))\n",
    "\n",
    "        timer.stop(\"getting training data\")\n",
    "        return x, y"
   ]
  },
  {
   "cell_type": "code",
   "execution_count": 12,
   "metadata": {},
   "outputs": [],
   "source": [
    "# helper function for getting testing data\n",
    "def getTestingDataNp(reload=False):\n",
    "    timer.start()\n",
    "    if reload:\n",
    "        x_benign, y_benign = convertImageFilesToNpArray(getFileAddresses(benign_testing_folder))\n",
    "        x_malignant, y_malignant = convertImageFilesToNpArray(getFileAddresses(malignant_testing_folder))\n",
    "\n",
    "        x = np.concatenate((x_benign, x_malignant))\n",
    "        y = np.concatenate((y_benign, y_malignant))\n",
    "\n",
    "        timer.stop(\"getting testing data\")\n",
    "        return x, y\n",
    "    else:\n",
    "        x_benign = np.load(benign_testing_images_np_file)\n",
    "        y_benign = np.load(benign_testing_labels_np_file)\n",
    "\n",
    "        x_malignant = np.load(malignant_testing_images_np_file)\n",
    "        y_malignant = np.load(malignant_testing_labels_np_file)\n",
    "\n",
    "        x = np.concatenate((x_benign, x_malignant))\n",
    "        y = np.concatenate((y_benign, y_malignant))\n",
    "\n",
    "        timer.stop(\"getting testing data\")\n",
    "        return x, y"
   ]
  },
  {
   "cell_type": "code",
   "execution_count": 13,
   "metadata": {},
   "outputs": [],
   "source": [
    "#helper function for loading all the data\n",
    "def getData():\n",
    "    x, y = getTrainingDataNp(reload=True)\n",
    "\n",
    "    x_test, y_test = getTestingDataNp(reload=True)\n",
    "\n",
    "    return x, y, x_test, y_test"
   ]
  },
  {
   "cell_type": "code",
   "execution_count": 14,
   "metadata": {},
   "outputs": [
    {
     "name": "stdout",
     "output_type": "stream",
     "text": [
      "transforming 67 files\n",
      "Timing:: took 49 second(s) transforming 67 files\n",
      "-----------------------------------\n",
      "transforming 33 files\n",
      "Timing:: took 16 second(s) transforming 33 files\n",
      "-----------------------------------\n",
      "converting 536 files to rgb\n",
      "Timing:: took 77 second(s) converting 536 files to rgb\n",
      "-----------------------------------\n",
      "converting 264 files to rgb\n",
      "Timing:: took 59 second(s) converting 264 files to rgb\n",
      "-----------------------------------\n",
      "resizing 536 files\n",
      "Timing:: took 45 second(s) resizing 536 files\n",
      "-----------------------------------\n",
      "resizing 264 files\n",
      "Timing:: took 17 second(s) resizing 264 files\n",
      "-----------------------------------\n"
     ]
    }
   ],
   "source": [
    "# preparation done, now we do the transformations\n",
    "augmentAndPreprocessTrainingImages()"
   ]
  },
  {
   "cell_type": "code",
   "execution_count": 15,
   "metadata": {},
   "outputs": [
    {
     "name": "stdout",
     "output_type": "stream",
     "text": [
      "converting 42 files to rgb\n",
      "Timing:: took 10 second(s) converting 42 files to rgb\n",
      "-----------------------------------\n",
      "converting 21 files to rgb\n",
      "Timing:: took 5 second(s) converting 21 files to rgb\n",
      "-----------------------------------\n",
      "resizing 42 files\n",
      "Timing:: took 2 second(s) resizing 42 files\n",
      "-----------------------------------\n",
      "resizing 21 files\n",
      "Timing:: took 0 second(s) resizing 21 files\n",
      "-----------------------------------\n"
     ]
    }
   ],
   "source": [
    "# for test images\n",
    "preprocessTestingImages()"
   ]
  },
  {
   "cell_type": "code",
   "execution_count": 16,
   "metadata": {},
   "outputs": [
    {
     "name": "stdout",
     "output_type": "stream",
     "text": [
      "Timing:: took 18 second(s) getting training data\n",
      "-----------------------------------\n",
      "Timing:: took 1 second(s) getting testing data\n",
      "-----------------------------------\n",
      "Training data shape:  (800, 224, 224, 3)\n",
      "Training labels shape:  (800, 1)\n",
      "Test data shape:  (63, 224, 224, 3)\n",
      "Test labels shape:  (63, 1)\n"
     ]
    }
   ],
   "source": [
    "# we confirm data was pre processed correctly\n",
    "x_train, y_train, x_test, y_test = getData()\n",
    "print('Training data shape: ', x_train.shape)\n",
    "print('Training labels shape: ', y_train.shape)\n",
    "print('Test data shape: ', x_test.shape)\n",
    "print('Test labels shape: ', y_test.shape)"
   ]
  },
  {
   "cell_type": "code",
   "execution_count": null,
   "metadata": {},
   "outputs": [],
   "source": []
  }
 ],
 "metadata": {
  "kernelspec": {
   "display_name": "Python 3",
   "language": "python",
   "name": "python3"
  },
  "language_info": {
   "codemirror_mode": {
    "name": "ipython",
    "version": 3
   },
   "file_extension": ".py",
   "mimetype": "text/x-python",
   "name": "python",
   "nbconvert_exporter": "python",
   "pygments_lexer": "ipython3",
   "version": "3.6.5"
  }
 },
 "nbformat": 4,
 "nbformat_minor": 1
}
